{
 "cells": [
  {
   "cell_type": "code",
   "execution_count": 3,
   "metadata": {},
   "outputs": [
    {
     "data": {
      "application/vnd.jupyter.widget-view+json": {
       "model_id": "8899743fcb9c41a989d490fb1bd30094",
       "version_major": 2,
       "version_minor": 0
      },
      "text/plain": [
       "model.safetensors:  70%|######9   | 231M/331M [00:00<?, ?B/s]"
      ]
     },
     "metadata": {},
     "output_type": "display_data"
    },
    {
     "name": "stderr",
     "output_type": "stream",
     "text": [
      "Some weights of the model checkpoint at distilroberta-base were not used when initializing RobertaForMaskedLM: ['roberta.pooler.dense.bias', 'roberta.pooler.dense.weight']\n",
      "- This IS expected if you are initializing RobertaForMaskedLM from the checkpoint of a model trained on another task or with another architecture (e.g. initializing a BertForSequenceClassification model from a BertForPreTraining model).\n",
      "- This IS NOT expected if you are initializing RobertaForMaskedLM from the checkpoint of a model that you expect to be exactly identical (initializing a BertForSequenceClassification model from a BertForSequenceClassification model).\n"
     ]
    },
    {
     "data": {
      "application/vnd.jupyter.widget-view+json": {
       "model_id": "9b38bc94761742a08a9b04032c437ed9",
       "version_major": 2,
       "version_minor": 0
      },
      "text/plain": [
       "tokenizer_config.json:   0%|          | 0.00/25.0 [00:00<?, ?B/s]"
      ]
     },
     "metadata": {},
     "output_type": "display_data"
    },
    {
     "data": {
      "application/vnd.jupyter.widget-view+json": {
       "model_id": "0ee43b8ab7de4a2484a8a3f0f3b8d771",
       "version_major": 2,
       "version_minor": 0
      },
      "text/plain": [
       "vocab.json:   0%|          | 0.00/899k [00:00<?, ?B/s]"
      ]
     },
     "metadata": {},
     "output_type": "display_data"
    },
    {
     "data": {
      "application/vnd.jupyter.widget-view+json": {
       "model_id": "a16b63c5989d438ca289bd7ef81830a4",
       "version_major": 2,
       "version_minor": 0
      },
      "text/plain": [
       "merges.txt:   0%|          | 0.00/456k [00:00<?, ?B/s]"
      ]
     },
     "metadata": {},
     "output_type": "display_data"
    },
    {
     "data": {
      "application/vnd.jupyter.widget-view+json": {
       "model_id": "48bccad36ccb480ebb9d7f47a616c08f",
       "version_major": 2,
       "version_minor": 0
      },
      "text/plain": [
       "tokenizer.json:   0%|          | 0.00/1.36M [00:00<?, ?B/s]"
      ]
     },
     "metadata": {},
     "output_type": "display_data"
    },
    {
     "name": "stderr",
     "output_type": "stream",
     "text": [
      "Device set to use cpu\n"
     ]
    },
    {
     "data": {
      "application/vnd.jupyter.widget-view+json": {
       "model_id": "c5f3496d57bb41d0b4dd62017d114299",
       "version_major": 2,
       "version_minor": 0
      },
      "text/plain": [
       "config.json:   0%|          | 0.00/665 [00:00<?, ?B/s]"
      ]
     },
     "metadata": {},
     "output_type": "display_data"
    },
    {
     "name": "stderr",
     "output_type": "stream",
     "text": [
      "C:\\Users\\moumi\\AppData\\Local\\Packages\\PythonSoftwareFoundation.Python.3.10_qbz5n2kfra8p0\\LocalCache\\local-packages\\Python310\\site-packages\\huggingface_hub\\file_download.py:140: UserWarning: `huggingface_hub` cache-system uses symlinks by default to efficiently store duplicated files but your machine does not support them in C:\\Users\\moumi\\.cache\\huggingface\\hub\\models--gpt2. Caching files will still work but in a degraded version that might require more space on your disk. This warning can be disabled by setting the `HF_HUB_DISABLE_SYMLINKS_WARNING` environment variable. For more details, see https://huggingface.co/docs/huggingface_hub/how-to-cache#limitations.\n",
      "To support symlinks on Windows, you either need to activate Developer Mode or to run Python as an administrator. In order to activate developer mode, see this article: https://docs.microsoft.com/en-us/windows/apps/get-started/enable-your-device-for-development\n",
      "  warnings.warn(message)\n"
     ]
    },
    {
     "data": {
      "application/vnd.jupyter.widget-view+json": {
       "model_id": "d21c220286a148caba3da2bb409eb6b2",
       "version_major": 2,
       "version_minor": 0
      },
      "text/plain": [
       "model.safetensors:   0%|          | 0.00/548M [00:00<?, ?B/s]"
      ]
     },
     "metadata": {},
     "output_type": "display_data"
    },
    {
     "data": {
      "application/vnd.jupyter.widget-view+json": {
       "model_id": "ac95644bb5f34d7bb49cd6e00812d53c",
       "version_major": 2,
       "version_minor": 0
      },
      "text/plain": [
       "generation_config.json:   0%|          | 0.00/124 [00:00<?, ?B/s]"
      ]
     },
     "metadata": {},
     "output_type": "display_data"
    },
    {
     "data": {
      "application/vnd.jupyter.widget-view+json": {
       "model_id": "069cb42bb470497291b80de0f424c2a1",
       "version_major": 2,
       "version_minor": 0
      },
      "text/plain": [
       "tokenizer_config.json:   0%|          | 0.00/26.0 [00:00<?, ?B/s]"
      ]
     },
     "metadata": {},
     "output_type": "display_data"
    },
    {
     "data": {
      "application/vnd.jupyter.widget-view+json": {
       "model_id": "f6a533463faf4daeb548601cc7ef6509",
       "version_major": 2,
       "version_minor": 0
      },
      "text/plain": [
       "vocab.json:   0%|          | 0.00/1.04M [00:00<?, ?B/s]"
      ]
     },
     "metadata": {},
     "output_type": "display_data"
    },
    {
     "data": {
      "application/vnd.jupyter.widget-view+json": {
       "model_id": "fe2af11c5cff432bab335de2205ff485",
       "version_major": 2,
       "version_minor": 0
      },
      "text/plain": [
       "merges.txt:   0%|          | 0.00/456k [00:00<?, ?B/s]"
      ]
     },
     "metadata": {},
     "output_type": "display_data"
    },
    {
     "data": {
      "application/vnd.jupyter.widget-view+json": {
       "model_id": "5f9503ae71ad44358e5006b2884c82c2",
       "version_major": 2,
       "version_minor": 0
      },
      "text/plain": [
       "tokenizer.json:   0%|          | 0.00/1.36M [00:00<?, ?B/s]"
      ]
     },
     "metadata": {},
     "output_type": "display_data"
    },
    {
     "name": "stderr",
     "output_type": "stream",
     "text": [
      "Device set to use cpu\n"
     ]
    },
    {
     "data": {
      "application/vnd.jupyter.widget-view+json": {
       "model_id": "2e67a4b1cbd74a9eb95fbfc50120942f",
       "version_major": 2,
       "version_minor": 0
      },
      "text/plain": [
       "modules.json:   0%|          | 0.00/349 [00:00<?, ?B/s]"
      ]
     },
     "metadata": {},
     "output_type": "display_data"
    },
    {
     "name": "stderr",
     "output_type": "stream",
     "text": [
      "C:\\Users\\moumi\\AppData\\Local\\Packages\\PythonSoftwareFoundation.Python.3.10_qbz5n2kfra8p0\\LocalCache\\local-packages\\Python310\\site-packages\\huggingface_hub\\file_download.py:140: UserWarning: `huggingface_hub` cache-system uses symlinks by default to efficiently store duplicated files but your machine does not support them in C:\\Users\\moumi\\.cache\\huggingface\\hub\\models--sentence-transformers--all-MiniLM-L6-v2. Caching files will still work but in a degraded version that might require more space on your disk. This warning can be disabled by setting the `HF_HUB_DISABLE_SYMLINKS_WARNING` environment variable. For more details, see https://huggingface.co/docs/huggingface_hub/how-to-cache#limitations.\n",
      "To support symlinks on Windows, you either need to activate Developer Mode or to run Python as an administrator. In order to activate developer mode, see this article: https://docs.microsoft.com/en-us/windows/apps/get-started/enable-your-device-for-development\n",
      "  warnings.warn(message)\n"
     ]
    },
    {
     "data": {
      "application/vnd.jupyter.widget-view+json": {
       "model_id": "657a6e97ad7c488fab85b17a1c7936e5",
       "version_major": 2,
       "version_minor": 0
      },
      "text/plain": [
       "config_sentence_transformers.json:   0%|          | 0.00/116 [00:00<?, ?B/s]"
      ]
     },
     "metadata": {},
     "output_type": "display_data"
    },
    {
     "data": {
      "application/vnd.jupyter.widget-view+json": {
       "model_id": "5b95f415f20c44488a07a63cde03bb52",
       "version_major": 2,
       "version_minor": 0
      },
      "text/plain": [
       "README.md:   0%|          | 0.00/10.7k [00:00<?, ?B/s]"
      ]
     },
     "metadata": {},
     "output_type": "display_data"
    },
    {
     "data": {
      "application/vnd.jupyter.widget-view+json": {
       "model_id": "60ce2dd2957e47f1a96eecdf254cc8d8",
       "version_major": 2,
       "version_minor": 0
      },
      "text/plain": [
       "sentence_bert_config.json:   0%|          | 0.00/53.0 [00:00<?, ?B/s]"
      ]
     },
     "metadata": {},
     "output_type": "display_data"
    },
    {
     "data": {
      "application/vnd.jupyter.widget-view+json": {
       "model_id": "af3d678781aa475090e058da19633eaf",
       "version_major": 2,
       "version_minor": 0
      },
      "text/plain": [
       "config.json:   0%|          | 0.00/612 [00:00<?, ?B/s]"
      ]
     },
     "metadata": {},
     "output_type": "display_data"
    },
    {
     "data": {
      "application/vnd.jupyter.widget-view+json": {
       "model_id": "5fb0c8fe31e14fd6b9538b562852769c",
       "version_major": 2,
       "version_minor": 0
      },
      "text/plain": [
       "model.safetensors:   0%|          | 0.00/90.9M [00:00<?, ?B/s]"
      ]
     },
     "metadata": {},
     "output_type": "display_data"
    },
    {
     "data": {
      "application/vnd.jupyter.widget-view+json": {
       "model_id": "898b89e7d1c04791ab1de2ee7d1ad0fc",
       "version_major": 2,
       "version_minor": 0
      },
      "text/plain": [
       "tokenizer_config.json:   0%|          | 0.00/350 [00:00<?, ?B/s]"
      ]
     },
     "metadata": {},
     "output_type": "display_data"
    },
    {
     "data": {
      "application/vnd.jupyter.widget-view+json": {
       "model_id": "428ee6dd4b2646ddb0f22503852fbb66",
       "version_major": 2,
       "version_minor": 0
      },
      "text/plain": [
       "vocab.txt:   0%|          | 0.00/232k [00:00<?, ?B/s]"
      ]
     },
     "metadata": {},
     "output_type": "display_data"
    },
    {
     "data": {
      "application/vnd.jupyter.widget-view+json": {
       "model_id": "acda8e480fa648d796ccc6de25d075b2",
       "version_major": 2,
       "version_minor": 0
      },
      "text/plain": [
       "tokenizer.json:   0%|          | 0.00/466k [00:00<?, ?B/s]"
      ]
     },
     "metadata": {},
     "output_type": "display_data"
    },
    {
     "data": {
      "application/vnd.jupyter.widget-view+json": {
       "model_id": "20645dadbd4040f08922ba445601d219",
       "version_major": 2,
       "version_minor": 0
      },
      "text/plain": [
       "special_tokens_map.json:   0%|          | 0.00/112 [00:00<?, ?B/s]"
      ]
     },
     "metadata": {},
     "output_type": "display_data"
    },
    {
     "data": {
      "application/vnd.jupyter.widget-view+json": {
       "model_id": "b69a12285f724b5699580c04f9b688ec",
       "version_major": 2,
       "version_minor": 0
      },
      "text/plain": [
       "1_Pooling/config.json:   0%|          | 0.00/190 [00:00<?, ?B/s]"
      ]
     },
     "metadata": {},
     "output_type": "display_data"
    },
    {
     "name": "stderr",
     "output_type": "stream",
     "text": [
      "Truncation was not explicitly activated but `max_length` is provided a specific value, please use `truncation=True` to explicitly truncate examples to max length. Defaulting to 'longest_first' truncation strategy. If you encode pairs of sequences (GLUE-style) with the tokenizer you can select this strategy more precisely by providing a specific strategy to `truncation`.\n",
      "Setting `pad_token_id` to `eos_token_id`:50256 for open-end generation.\n"
     ]
    },
    {
     "name": "stdout",
     "output_type": "stream",
     "text": [
      "Reformulation 1: Après votre séance d’entraînement, pensez à faire un bon équilibre hydrique. (Similarité: 0.9536)\n",
      "Reformulation 2: Après votre séance d’entraînement, pensez à plus un bon équilibre hydrique. (Similarité: 0.9638)\n",
      "Reformulation 3: Après votre séance d’entraînement, pensez à travers un bon équilibre hydrique. (Similarité: 0.9516)\n",
      "Reformulation 4: Après votre séance d’entraînement, pensez à « un bon équilibre hydrique. (Similarité: 0.9463)\n",
      "Reformulation 5: Après votre séance d’entraînement, pensez à ce un bon équilibre hydrique. (Similarité: 0.9638)\n",
      "Reformulation 6: Après votre séance d’entraînement, pensez à maintenir un bon équilibre hydrique. (Similarité: 1.0000)\n",
      "Reformulation 7: Après votre séance d’entraînement, pensez à maintenir un bon équilibre hydrique.\n",
      "\n",
      "Les césapiens qui m'héneriés pas ré (Similarité: 0.9417)\n",
      "Reformulation 8: Après votre séance d’entraînement, pensez à maintenir un bon équilibre hydrique.\n",
      "\n",
      "Félément les léoches à bien sur la c (Similarité: 0.9037)\n",
      "Reformulation 9: Après votre séance d’entraînement, pensez à maintenir un bon équilibre hydrique.\n",
      "\n",
      "Cities, provinces, territories, etc, are named according to their geographic (Similarité: 0.6386)\n",
      "Reformulation 10: Après votre séance d’entraînement, pensez à maintenir un bon équilibre hydrique. Ét vérité pour une nouvelle état dans (Similarité: 0.9295)\n"
     ]
    }
   ],
   "source": [
    "from transformers import pipeline, set_seed, AutoTokenizer, AutoModelForMaskedLM\n",
    "from sentence_transformers import SentenceTransformer, util\n",
    "import torch\n",
    "\n",
    "# Chargement des pipelines\n",
    "mlm_pipe = pipeline(\"fill-mask\", model=\"distilroberta-base\")\n",
    "clm_pipe = pipeline(\"text-generation\", model=\"gpt2\")\n",
    "\n",
    "# Modèle pour validation\n",
    "sentence_model = SentenceTransformer('all-MiniLM-L6-v2')\n",
    "\n",
    "# Phrase d'origine\n",
    "original_text = \"Après votre séance d’entraînement, pensez à maintenir un bon équilibre hydrique.\"\n",
    "\n",
    "# 1. Génération avec MLM\n",
    "masked_text = \"Après votre séance d’entraînement, pensez à <mask> un bon équilibre hydrique.\"\n",
    "mlm_results = [result['sequence'] for result in mlm_pipe(masked_text)]\n",
    "\n",
    "# 2. Génération avec CLM\n",
    "set_seed(42)  # Pour des résultats reproductibles\n",
    "clm_results = clm_pipe(original_text, max_length=50, num_return_sequences=5)\n",
    "\n",
    "# Combiner les résultats\n",
    "generated_texts = mlm_results + [res['generated_text'] for res in clm_results]\n",
    "\n",
    "# 3. Validation des similarités\n",
    "original_embedding = sentence_model.encode(original_text, convert_to_tensor=True)\n",
    "generated_embeddings = sentence_model.encode(generated_texts, convert_to_tensor=True)\n",
    "\n",
    "# Calcul de la similarité cosinus\n",
    "similarities = util.pytorch_cos_sim(original_embedding, generated_embeddings)\n",
    "\n",
    "# Résultats\n",
    "for i, (text, score) in enumerate(zip(generated_texts, similarities[0])):\n",
    "    print(f\"Reformulation {i+1}: {text} (Similarité: {score.item():.4f})\")\n"
   ]
  },
  {
   "cell_type": "code",
   "execution_count": 4,
   "metadata": {},
   "outputs": [
    {
     "name": "stderr",
     "output_type": "stream",
     "text": [
      "Setting `pad_token_id` to `eos_token_id`:50256 for open-end generation.\n"
     ]
    },
    {
     "name": "stdout",
     "output_type": "stream",
     "text": [
      "Reformulation 1: La gestion des déchets est un enjeu crucial pour la durabilité des villes. (Similarité: 1.0000)\n",
      "Reformulation 2: La gestion des déchets est un enjeu crucial pour une durabilité des villes. (Similarité: 0.9924)\n",
      "Reformulation 3: La gestion des déchets est un enjeu crucial pour le durabilité des villes. (Similarité: 0.9941)\n",
      "Reformulation 4: La gestion des déchets est un enjeu crucial pour faire durabilité des villes. (Similarité: 0.9510)\n",
      "Reformulation 5: La gestion des déchets est un enjeu crucial pour les durabilité des villes. (Similarité: 0.9885)\n",
      "Reformulation 6: La gestion des déchets est un enjeu crucial pour la durabilité des villes. (Similarité: 1.0000)\n",
      "Reformulation 7: La gestion des déchets est un enjeu crucial pour la durabilité des villes.\n",
      "\n",
      "Les cinégs qui m'aingon avec la révierté.\n",
      "\n",
      "Un serait de (Similarité: 0.8958)\n",
      "Reformulation 8: La gestion des déchets est un enjeu crucial pour la durabilité des villes.\n",
      "\n",
      "Il septembre la malaise à la monde, c'est étaient pour une mort.\n",
      " (Similarité: 0.8613)\n",
      "Reformulation 9: La gestion des déchets est un enjeu crucial pour la durabilité des villes. Elle même n'avait tout avec moins les gens un la septima pour les sond (Similarité: 0.8916)\n",
      "Reformulation 10: La gestion des déchets est un enjeu crucial pour la durabilité des villes.\n",
      "\n",
      "Por que sa pratique. Pour avec les vuères également.\n",
      "\n",
      "Si vois (Similarité: 0.9348)\n"
     ]
    }
   ],
   "source": [
    "# Nouvelle phrase d'origine (changer ici)\n",
    "original_text = \"La gestion des déchets est un enjeu crucial pour la durabilité des villes.\"\n",
    "\n",
    "masked_text = \"La gestion des déchets est un enjeu crucial pour <mask> durabilité des villes.\"\n",
    "mlm_results = [result['sequence'] for result in mlm_pipe(masked_text)]\n",
    "\n",
    "set_seed(42)  # Pour des résultats reproductibles\n",
    "clm_results = clm_pipe(original_text, max_length=50, num_return_sequences=5)\n",
    "\n",
    "generated_texts = mlm_results + [res['generated_text'] for res in clm_results]\n",
    "\n",
    "original_embedding = sentence_model.encode(original_text, convert_to_tensor=True)\n",
    "generated_embeddings = sentence_model.encode(generated_texts, convert_to_tensor=True)\n",
    "\n",
    "similarities = util.pytorch_cos_sim(original_embedding, generated_embeddings)\n",
    "\n",
    "# Résultats\n",
    "for i, (text, score) in enumerate(zip(generated_texts, similarities[0])):\n",
    "    print(f\"Reformulation {i+1}: {text} (Similarité: {score.item():.4f})\")\n"
   ]
  }
 ],
 "metadata": {
  "kernelspec": {
   "display_name": "Python 3",
   "language": "python",
   "name": "python3"
  },
  "language_info": {
   "codemirror_mode": {
    "name": "ipython",
    "version": 3
   },
   "file_extension": ".py",
   "mimetype": "text/x-python",
   "name": "python",
   "nbconvert_exporter": "python",
   "pygments_lexer": "ipython3",
   "version": "3.10.11"
  }
 },
 "nbformat": 4,
 "nbformat_minor": 2
}
