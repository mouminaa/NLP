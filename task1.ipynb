{
 "cells": [
  {
   "cell_type": "code",
   "execution_count": 1,
   "metadata": {},
   "outputs": [
    {
     "name": "stdout",
     "output_type": "stream",
     "text": [
      "Aucun message trouvé dans le canal.\n"
     ]
    }
   ],
   "source": [
    "from telethon import TelegramClient\n",
    "from telethon.tl.types import MessageMediaPhoto, MessageMediaDocument\n",
    "import pandas as pd\n",
    "from datetime import datetime\n",
    "import os\n",
    "import asyncio\n",
    "\n",
    "# Variables pour la connexion\n",
    "api_id = '25846172'  # Remplacez par votre API ID\n",
    "api_hash = 'f476b94eae369562cd2ac993a145e6cb'  # Remplacez par votre API Hash\n",
    "channel_username = '@momo'  # Remplacez par le nom d'utilisateur du canal\n",
    "output_dir = 'parquet_files'  # Répertoire de sortie des fichiers Parquet\n",
    "\n",
    "# Fonction asynchrone pour récupérer les messages\n",
    "async def main():\n",
    "    # Créer le client Telegram\n",
    "    async with TelegramClient('nouvelle_session', api_id, api_hash) as client:\n",
    "        # Assurez-vous que le répertoire existe\n",
    "        if not os.path.exists(output_dir):\n",
    "            os.makedirs(output_dir)\n",
    "\n",
    "        # Récupérer les messages du canal\n",
    "        messages = []\n",
    "        async for message in client.iter_messages(channel_username):\n",
    "            if message.text:  # Ignorer les messages sans texte\n",
    "                messages.append({\n",
    "                    \"timestamp\": message.date,\n",
    "                    \"source\": channel_username,\n",
    "                    \"text\": message.message,\n",
    "                    \"has_media\": isinstance(message.media, (MessageMediaPhoto, MessageMediaDocument))\n",
    "                })\n",
    "\n",
    "        # Vérifier si des messages ont été récupérés\n",
    "        if messages:\n",
    "            # Convertir en DataFrame Pandas\n",
    "            df = pd.DataFrame(messages)\n",
    "\n",
    "            # Enregistrer au format Parquet\n",
    "            timestamp = datetime.now().strftime('%Y%m%d_%H%M%S')\n",
    "            parquet_file = f\"{output_dir}/messages_{timestamp}.parquet\"\n",
    "            df.to_parquet(parquet_file, engine='pyarrow')\n",
    "            print(f\"Файл паркета сохранен в{parquet_file}\")\n",
    "        else:\n",
    "            print(\"Сообщения не найдены в канале.\")\n",
    "\n",
    "# Vérifier si nous sommes dans un environnement interactif\n",
    "try:\n",
    "    # Si nous sommes dans un Jupyter Notebook, utiliser asyncio.create_task\n",
    "    asyncio.create_task(main())\n",
    "except RuntimeError:\n",
    "    # Si nous ne sommes pas dans un environnement interactif, utiliser asyncio.run()\n",
    "    asyncio.run(main())\n"
   ]
  },
  {
   "cell_type": "code",
   "execution_count": null,
   "metadata": {},
   "outputs": [],
   "source": [
    "from pyspark.sql import SparkSession\n",
    "from pyspark.sql.functions import col, length, count\n",
    "\n",
    "# Initialiser SparkSession\n",
    "spark = SparkSession.builder \\\n",
    "    .appName(\"TelegramAnomalyDetection\") \\\n",
    "    .getOrCreate()\n",
    "\n",
    "# Lire les fichiers Parquet en continu\n",
    "parquet_dir = 'parquet_files'\n",
    "df = spark.readStream \\\n",
    "    .format(\"parquet\") \\\n",
    "    .schema(\"timestamp TIMESTAMP, source STRING, text STRING, has_media BOOLEAN\") \\\n",
    "    .load(parquet_dir)\n",
    "\n",
    "# Analyser les anomalies (exemple : longueur de texte inhabituellement longue/courte)\n",
    "# Анализ аномалий (пример: необычно длинная/короткая длина текста)\n",
    "anomalies = df.withColumn(\"text_length\", length(col(\"text\"))) \\\n",
    "    .filter((col(\"text_length\") > 500) | (col(\"text_length\") < 10))\n",
    "\n",
    "# Afficher les anomalies détectées\n",
    "query = anomalies.writeStream \\\n",
    "    .outputMode(\"append\") \\\n",
    "    .format(\"console\") \\\n",
    "    .start()\n",
    "\n",
    "query.awaitTermination()\n"
   ]
  },
  {
   "cell_type": "code",
   "execution_count": null,
   "metadata": {},
   "outputs": [],
   "source": []
  }
 ],
 "metadata": {
  "kernelspec": {
   "display_name": "Python 3",
   "language": "python",
   "name": "python3"
  },
  "language_info": {
   "codemirror_mode": {
    "name": "ipython",
    "version": 3
   },
   "file_extension": ".py",
   "mimetype": "text/x-python",
   "name": "python",
   "nbconvert_exporter": "python",
   "pygments_lexer": "ipython3",
   "version": "3.10.11"
  }
 },
 "nbformat": 4,
 "nbformat_minor": 2
}
